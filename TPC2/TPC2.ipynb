{
 "cells": [
  {
   "cell_type": "code",
   "execution_count": 15,
   "id": "27d057e9",
   "metadata": {},
   "outputs": [
    {
     "name": "stdout",
     "output_type": "stream",
     "text": [
      "21 fósforos\n",
      "Olá! Vamos jogar ao jogo do fósforo. Tens 21 fósforos, e quem retirar o último perde. Podes escolher retirar 1,2,3 ou 4 fósforos! Pronto?\n",
      "O computador retirou 3 fósforos. Sobraram 18 fósforos.\n",
      "Quantos fósforos queres retirar?\n",
      "Tiraste 2, logo sobra 16\n",
      "O computador retirou 2 fósforos. Sobra 14.\n",
      "Quantos fósforos queres retirar?\n",
      "Tiraste 3, logo sobra 11\n",
      "O computador retirou 3 fósforos. Sobra 8.\n",
      "Quantos fósforos queres retirar?\n",
      "Tiraste 2, logo sobra 6\n",
      "O computador retirou 3 fósforos. Sobra 3.\n",
      "Quantos fósforos queres retirar?\n",
      "Tiraste 2, logo sobra 1\n",
      "Ganhaste\n"
     ]
    },
    {
     "ename": "ValueError",
     "evalue": "empty range in randrange(1, 1)",
     "output_type": "error",
     "traceback": [
      "\u001b[31m---------------------------------------------------------------------------\u001b[39m",
      "\u001b[31mValueError\u001b[39m                                Traceback (most recent call last)",
      "\u001b[36mCell\u001b[39m\u001b[36m \u001b[39m\u001b[32mIn[15]\u001b[39m\u001b[32m, line 40\u001b[39m\n\u001b[32m     38\u001b[39m         \u001b[38;5;28;01mpass\u001b[39;00m\n\u001b[32m     39\u001b[39m \u001b[38;5;28;01melse\u001b[39;00m:\n\u001b[32m---> \u001b[39m\u001b[32m40\u001b[39m     comp=\u001b[43mrandom\u001b[49m\u001b[43m.\u001b[49m\u001b[43mrandint\u001b[49m\u001b[43m(\u001b[49m\u001b[32;43m1\u001b[39;49m\u001b[43m,\u001b[49m\u001b[38;5;28;43mmin\u001b[39;49m\u001b[43m(\u001b[49m\u001b[32;43m4\u001b[39;49m\u001b[43m,\u001b[49m\u001b[43mn\u001b[49m\u001b[43m-\u001b[49m\u001b[32;43m1\u001b[39;49m\u001b[43m)\u001b[49m\u001b[43m)\u001b[49m\n\u001b[32m     41\u001b[39m n=n-comp\n\u001b[32m     42\u001b[39m \u001b[38;5;28mprint\u001b[39m(\u001b[33mf\u001b[39m\u001b[33m\"\u001b[39m\u001b[33mO computador retirou \u001b[39m\u001b[38;5;132;01m{\u001b[39;00mcomp\u001b[38;5;132;01m}\u001b[39;00m\u001b[33m fósforos. Sobra \u001b[39m\u001b[38;5;132;01m{\u001b[39;00mn\u001b[38;5;132;01m}\u001b[39;00m\u001b[33m.\u001b[39m\u001b[33m\"\u001b[39m)\n",
      "\u001b[36mFile \u001b[39m\u001b[32mc:\\Users\\Utilizador\\AppData\\Local\\Programs\\Python\\Python313\\Lib\\random.py:340\u001b[39m, in \u001b[36mRandom.randint\u001b[39m\u001b[34m(self, a, b)\u001b[39m\n\u001b[32m    336\u001b[39m \u001b[38;5;28;01mdef\u001b[39;00m\u001b[38;5;250m \u001b[39m\u001b[34mrandint\u001b[39m(\u001b[38;5;28mself\u001b[39m, a, b):\n\u001b[32m    337\u001b[39m \u001b[38;5;250m    \u001b[39m\u001b[33;03m\"\"\"Return random integer in range [a, b], including both end points.\u001b[39;00m\n\u001b[32m    338\u001b[39m \u001b[33;03m    \"\"\"\u001b[39;00m\n\u001b[32m--> \u001b[39m\u001b[32m340\u001b[39m     \u001b[38;5;28;01mreturn\u001b[39;00m \u001b[38;5;28;43mself\u001b[39;49m\u001b[43m.\u001b[49m\u001b[43mrandrange\u001b[49m\u001b[43m(\u001b[49m\u001b[43ma\u001b[49m\u001b[43m,\u001b[49m\u001b[43m \u001b[49m\u001b[43mb\u001b[49m\u001b[43m+\u001b[49m\u001b[32;43m1\u001b[39;49m\u001b[43m)\u001b[49m\n",
      "\u001b[36mFile \u001b[39m\u001b[32mc:\\Users\\Utilizador\\AppData\\Local\\Programs\\Python\\Python313\\Lib\\random.py:323\u001b[39m, in \u001b[36mRandom.randrange\u001b[39m\u001b[34m(self, start, stop, step)\u001b[39m\n\u001b[32m    321\u001b[39m     \u001b[38;5;28;01mif\u001b[39;00m width > \u001b[32m0\u001b[39m:\n\u001b[32m    322\u001b[39m         \u001b[38;5;28;01mreturn\u001b[39;00m istart + \u001b[38;5;28mself\u001b[39m._randbelow(width)\n\u001b[32m--> \u001b[39m\u001b[32m323\u001b[39m     \u001b[38;5;28;01mraise\u001b[39;00m \u001b[38;5;167;01mValueError\u001b[39;00m(\u001b[33mf\u001b[39m\u001b[33m\"\u001b[39m\u001b[33mempty range in randrange(\u001b[39m\u001b[38;5;132;01m{\u001b[39;00mstart\u001b[38;5;132;01m}\u001b[39;00m\u001b[33m, \u001b[39m\u001b[38;5;132;01m{\u001b[39;00mstop\u001b[38;5;132;01m}\u001b[39;00m\u001b[33m)\u001b[39m\u001b[33m\"\u001b[39m)\n\u001b[32m    325\u001b[39m \u001b[38;5;66;03m# Non-unit step argument supplied.\u001b[39;00m\n\u001b[32m    326\u001b[39m \u001b[38;5;28;01mif\u001b[39;00m istep > \u001b[32m0\u001b[39m:\n",
      "\u001b[31mValueError\u001b[39m: empty range in randrange(1, 1)"
     ]
    }
   ],
   "source": [
    "print(\"21 fósforos\")\n",
    "print(\"Olá! Vamos jogar ao jogo do fósforo. Tens 21 fósforos, e quem retirar o último perde. Podes escolher retirar 1,2,3 ou 4 fósforos! Pronto?\")\n",
    "jogador=input(\"Queres jogar em primeiro ou em segundo?\")\n",
    "n=21\n",
    "import random\n",
    "if jogador==\"Primeiro\" or jogador==\"primeiro\":\n",
    "    while n>5 :\n",
    "        jogo = int(input(\"Tens 21 fósforos quantos queres retirar?\"))\n",
    "        if jogo>4 or jogo<1:\n",
    "            print(\"Erro\")   \n",
    "        else:\n",
    "            n=n-jogo\n",
    "            print(f\"Retiraste {jogo} fósforos, logo sobraram {n} fósforos.\")\n",
    "            computador=5-jogo\n",
    "            n=n-computador\n",
    "            print(f\"O computador retirou {computador} fósforos. Tens {n}, quantos retiras?\")\n",
    "    print(\"Pois, só podes retirar o último...\")\n",
    "    print(\"Por isso, ups, perdeste! Talvez tenhas mais sorte para a próxima...\")\n",
    "elif jogador==\"segundo\" or jogador==\"Segundo\":\n",
    "    comp=random.randint(1,4)\n",
    "    n=n-comp\n",
    "    print(f\"O computador retirou {comp} fósforos. Sobraram {n} fósforos.\")\n",
    "    while n>1:\n",
    "        jog=int(input(print(\"Quantos fósforos queres retirar?\")))\n",
    "        n=n-jog\n",
    "        print(f\"Tiraste {jog}, logo sobra {n}\")\n",
    "        if n == 1:\n",
    "            print(\"Ganhaste\")\n",
    "        else:\n",
    "            pass\n",
    "        while jog>4 or jog<1:\n",
    "            print(\"Erro\")\n",
    "        if n%5!=1:\n",
    "            comp=(n-1)%5\n",
    "            if comp == 0:\n",
    "                comp=random.randint(1,min(4,n-1))\n",
    "            else:\n",
    "                pass\n",
    "        else:\n",
    "            comp=random.randint(1,min(4,n-1))\n",
    "        n=n-comp\n",
    "        print(f\"O computador retirou {comp} fósforos. Sobra {n}.\")\n",
    "        if n == 1:\n",
    "            print(\"Perdeste\")\n",
    "        else:\n",
    "            pass\n",
    "else:\n",
    "    print(\"Escolhe direito por favor.\")"
   ]
  }
 ],
 "metadata": {
  "kernelspec": {
   "display_name": "Python 3",
   "language": "python",
   "name": "python3"
  },
  "language_info": {
   "codemirror_mode": {
    "name": "ipython",
    "version": 3
   },
   "file_extension": ".py",
   "mimetype": "text/x-python",
   "name": "python",
   "nbconvert_exporter": "python",
   "pygments_lexer": "ipython3",
   "version": "3.13.7"
  }
 },
 "nbformat": 4,
 "nbformat_minor": 5
}
